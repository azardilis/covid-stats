{
 "cells": [
  {
   "cell_type": "code",
   "execution_count": null,
   "id": "pediatric-progress",
   "metadata": {},
   "outputs": [],
   "source": [
    "import deaths\n",
    "import pandas as pd\n",
    "import matplotlib.pyplot as plt\n",
    "from scipy import signal\n",
    "import numpy as np"
   ]
  },
  {
   "cell_type": "code",
   "execution_count": null,
   "id": "acoustic-participation",
   "metadata": {},
   "outputs": [],
   "source": [
    "%matplotlib inline\n",
    "%config InlineBackend.figure_formats = ['svg']\n",
    "plt.rcParams['figure.figsize'] = [9, 5]"
   ]
  },
  {
   "cell_type": "code",
   "execution_count": null,
   "id": "interesting-whole",
   "metadata": {},
   "outputs": [],
   "source": [
    "def plot_twoy(ys1, ys2):\n",
    "    fig, ax1 = plt.subplots()\n",
    "\n",
    "    color = 'tab:red'\n",
    "    ax1.set_xlabel('date')\n",
    "    ax1.set_ylabel('non-covid deaths', color=color)\n",
    "    ax1.plot(non_covid_deaths, color=color)\n",
    "    ax1.tick_params(axis='y', labelcolor=color)\n",
    "\n",
    "    ax2 = ax1.twinx()\n",
    "\n",
    "    color = 'tab:blue'\n",
    "    ax2.set_ylabel('covid cases', color=color)\n",
    "    ax2.plot(casess, color=color)\n",
    "    ax2.tick_params(axis='y', labelcolor=color)\n",
    "\n",
    "    fig.tight_layout()\n",
    "    plt.show()"
   ]
  },
  {
   "cell_type": "code",
   "execution_count": null,
   "id": "unknown-estimate",
   "metadata": {},
   "outputs": [],
   "source": [
    "casess, deathss, vacsss = deaths.get_covid_data()\n",
    "all_ds = deaths.get_all_deaths()\n",
    "all_ds = pd.DataFrame(all_ds.rename(\"all_deaths\"))\n",
    "deathss = pd.DataFrame(deathss)"
   ]
  },
  {
   "cell_type": "code",
   "execution_count": null,
   "id": "metropolitan-leonard",
   "metadata": {},
   "outputs": [],
   "source": [
    "def norm(xs):\n",
    "    return (xs - np.mean(xs)) / np.std(xs)"
   ]
  },
  {
   "cell_type": "markdown",
   "id": "earned-cliff",
   "metadata": {},
   "source": [
    "### Non-covid deaths vs cases"
   ]
  },
  {
   "cell_type": "code",
   "execution_count": null,
   "id": "outside-shell",
   "metadata": {},
   "outputs": [],
   "source": [
    "dd = deathss.join(all_ds)\n",
    "non_covid_deaths = dd[\"all_deaths\"] - dd[\"new_deaths\"]\n",
    "non_covid_deaths = non_covid_deaths.dropna()\n",
    "dd_ = pd.DataFrame(non_covid_deaths.rename(\"non_covid_deaths\")).join(casess)"
   ]
  },
  {
   "cell_type": "code",
   "execution_count": null,
   "id": "russian-delta",
   "metadata": {},
   "outputs": [],
   "source": [
    "plot_twoy(non_covid_deaths, casess)"
   ]
  },
  {
   "cell_type": "code",
   "execution_count": null,
   "id": "independent-pierce",
   "metadata": {},
   "outputs": [],
   "source": [
    "dd_[\"non_covid_deaths\"] = norm(dd_[\"non_covid_deaths\"])\n",
    "dd_[\"new_cases\"] = norm(dd_[\"new_cases\"])\n"
   ]
  },
  {
   "cell_type": "code",
   "execution_count": null,
   "id": "adjustable-better",
   "metadata": {},
   "outputs": [],
   "source": [
    "corr = signal.correlate(dd_[\"non_covid_deaths\"], dd_[\"new_cases\"])\n",
    "lags = signal.correlation_lags(len(dd_[\"non_covid_deaths\"]), len(dd_[\"new_cases\"]))"
   ]
  },
  {
   "cell_type": "code",
   "execution_count": null,
   "id": "optical-butler",
   "metadata": {
    "scrolled": true
   },
   "outputs": [],
   "source": [
    "plt.plot(lags, corr)\n",
    "plt.xlabel(\"lag\")\n",
    "plt.ylabel(\"corr\")"
   ]
  },
  {
   "cell_type": "code",
   "execution_count": null,
   "id": "opponent-interaction",
   "metadata": {},
   "outputs": [],
   "source": [
    "iis = np.argsort(corr)[-5:]"
   ]
  },
  {
   "cell_type": "code",
   "execution_count": null,
   "id": "saved-dietary",
   "metadata": {},
   "outputs": [],
   "source": [
    "lags[iis]"
   ]
  },
  {
   "cell_type": "code",
   "execution_count": null,
   "id": "powered-cricket",
   "metadata": {},
   "outputs": [],
   "source": [
    "plt.plot(vacsss)"
   ]
  }
 ],
 "metadata": {
  "kernelspec": {
   "display_name": "Python 3",
   "language": "python",
   "name": "python3"
  },
  "language_info": {
   "codemirror_mode": {
    "name": "ipython",
    "version": 3
   },
   "file_extension": ".py",
   "mimetype": "text/x-python",
   "name": "python",
   "nbconvert_exporter": "python",
   "pygments_lexer": "ipython3",
   "version": "3.9.10"
  }
 },
 "nbformat": 4,
 "nbformat_minor": 5
}
