{
 "cells": [
  {
   "cell_type": "code",
   "execution_count": null,
   "id": "informed-bandwidth",
   "metadata": {},
   "outputs": [],
   "source": [
    "import matplotlib.pyplot as plt\n",
    "import seaborn as sns\n",
    "import numpy as np"
   ]
  },
  {
   "cell_type": "code",
   "execution_count": null,
   "id": "familiar-memory",
   "metadata": {},
   "outputs": [],
   "source": [
    "def set_plot_params(fontsize=11):\n",
    "    sns.set_style(\"whitegrid\", {'grid.linestyle': '--'})\n",
    "    plt.rc('xtick', labelsize=fontsize)\n",
    "    plt.rc('ytick', labelsize=fontsize)\n",
    "    plt.rc('axes', labelsize=fontsize)\n",
    "    params = {'legend.fontsize': fontsize}\n",
    "    plt.rcParams.update(params)\n",
    "    \n",
    "set_plot_params(fontsize=15)"
   ]
  },
  {
   "cell_type": "code",
   "execution_count": null,
   "id": "plain-questionnaire",
   "metadata": {},
   "outputs": [],
   "source": [
    "n_beds = 300\n",
    "\n",
    "def n_hosps(hosp_rt, pos_rt, ds):\n",
    "    pop = 888000\n",
    "    return hosp_rt * (ds * (pos_rt * pop))\n",
    "\n",
    "def pos_rt(hosp_rt, ds, n_hosps):\n",
    "    pop = 888000\n",
    "    return (1/(ds*pop) * (n_hosps/hosp_rt))\n",
    "\n",
    "def hosp_rt(pos_rt, ds, n_hosps):\n",
    "    pop = 888000\n",
    "    return n_hosps / (ds * (pos_rt * pop))\n",
    "\n",
    "def n_cases(pos_rt, ds):\n",
    "    pop = 888000\n",
    "    return (ds * (pos_rt * pop))"
   ]
  },
  {
   "cell_type": "code",
   "execution_count": null,
   "id": "simple-recycling",
   "metadata": {},
   "outputs": [],
   "source": [
    "poss = list(np.arange(0.005, 0.05, 0.0001))\n",
    "hospss = [hosp_rt(p, 7, 300) for p in poss]\n",
    "hospss1 = [hosp_rt(p, 7, 400) for p in poss]\n",
    "hospss2 = [hosp_rt(p, 7, 600) for p in poss]"
   ]
  },
  {
   "cell_type": "code",
   "execution_count": null,
   "id": "dental-guatemala",
   "metadata": {},
   "outputs": [],
   "source": [
    "import pandas as pd\n",
    "from itertools import repeat\n",
    "d = pd.DataFrame({\"pos_rt\" : poss + poss + poss, \n",
    "                  \"hosps\" : hospss + hospss1 + hospss2, \n",
    "                  \"n_beds\": (list(repeat(300, len(hospss))) + \n",
    "                             list(repeat(400, len(hospss))) + \n",
    "                             list(repeat(600, len(hospss))))\n",
    "                 })"
   ]
  },
  {
   "cell_type": "code",
   "execution_count": null,
   "id": "mediterranean-plumbing",
   "metadata": {},
   "outputs": [],
   "source": [
    "ax = plt.subplot(1, 1, 1)\n",
    "sns.lineplot(data=d, x=\"pos_rt\", y=\"hosps\", hue=\"n_beds\", ax=ax)\n",
    "ax.set_xlabel(\"positivity rate\")\n",
    "ax.set_ylabel(\"hosp rate\")\n",
    "ax.set_xticks(np.arange(0.01, 0.06, 0.01))\n",
    "ax.set_yticks(np.arange(0.002, 0.02, 0.002))\n",
    "plt.tight_layout()\n",
    "plt.savefig(\"hosp_pos.png\", dpi=300)"
   ]
  },
  {
   "cell_type": "code",
   "execution_count": null,
   "id": "lucky-disorder",
   "metadata": {},
   "outputs": [],
   "source": [
    "total_pop = 888000\n",
    "ref_group_rt = (34 / 6000)\n",
    "\n",
    "\n",
    "\n",
    "adult_groups = [\n",
    "    ref_group_rt*6, #18-29\n",
    "    ref_group_rt*10, #30-39\n",
    "    ref_group_rt*15,#40-49\n",
    "    ref_group_rt*25, #50-64\n",
    "    ref_group_rt*40, #65-74\n",
    "    ref_group_rt*65, #75-84\n",
    "    ref_group_rt*95] #85+\n",
    "\n",
    "group_pops = [67382 + 75585,\n",
    "              71226 + 63094,\n",
    "              60916 + 58375,\n",
    "             57242 + 48706 + 45922,\n",
    "             37046 + 30015,\n",
    "             21474 + 14500,\n",
    "             7543 + 3400]\n",
    "\n",
    "vacc_rates = [0.0, 0.0, 0.1, 0.4, 0.7, 0.8, 0.8]\n",
    "\n",
    "group_pops_ps = [g / total_pop for g in group_pops]"
   ]
  },
  {
   "cell_type": "code",
   "execution_count": null,
   "id": "healthy-negotiation",
   "metadata": {},
   "outputs": [],
   "source": [
    "hosp_rate = sum([g*h*(1-v) for g, h, v in zip(group_pops_ps, adult_groups, vacc_rates)]) / sum(group_pops_ps)\n",
    "print(hosp_rate)"
   ]
  },
  {
   "cell_type": "code",
   "execution_count": null,
   "id": "cooperative-suicide",
   "metadata": {},
   "outputs": [],
   "source": [
    "((7 * (0.005 * total_pop))) / total_pop"
   ]
  }
 ],
 "metadata": {
  "kernelspec": {
   "display_name": "Python 3",
   "language": "python",
   "name": "python3"
  },
  "language_info": {
   "codemirror_mode": {
    "name": "ipython",
    "version": 3
   },
   "file_extension": ".py",
   "mimetype": "text/x-python",
   "name": "python",
   "nbconvert_exporter": "python",
   "pygments_lexer": "ipython3",
   "version": "3.8.7"
  }
 },
 "nbformat": 4,
 "nbformat_minor": 5
}
